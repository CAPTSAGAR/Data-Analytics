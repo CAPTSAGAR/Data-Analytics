{
 "cells": [
  {
   "cell_type": "code",
   "execution_count": null,
   "id": "a054088f",
   "metadata": {},
   "outputs": [],
   "source": []
  },
  {
   "cell_type": "code",
   "execution_count": 1,
   "id": "3d5ff548",
   "metadata": {},
   "outputs": [],
   "source": [
    "import pandas as pd\n",
    "from mlxtend.frequent_patterns import apriori, association_rules"
   ]
  },
  {
   "cell_type": "code",
   "execution_count": 2,
   "id": "975e9079",
   "metadata": {},
   "outputs": [],
   "source": [
    "transactions=[['Bread','Milk'],\n",
    "              ['Bread','Diaper','Beer','Eggs'],\n",
    "              ['Milk','Diaper','Beer','Coke'],\n",
    "              ['Bread','Milk','Diaper','Beer'],\n",
    "              ['Bread','Milk','Diaper','Coke']]"
   ]
  },
  {
   "cell_type": "raw",
   "id": "46d27808",
   "metadata": {},
   "source": [
    "from mlxtend.preprocessing import TransactionEncoder"
   ]
  },
  {
   "cell_type": "code",
   "execution_count": 3,
   "id": "f030abfb",
   "metadata": {},
   "outputs": [],
   "source": [
    "from mlxtend.preprocessing import TransactionEncoder"
   ]
  },
  {
   "cell_type": "code",
   "execution_count": 4,
   "id": "3927d322",
   "metadata": {},
   "outputs": [],
   "source": [
    "te=TransactionEncoder()\n",
    "te_array=te.fit(transactions).transform(transactions)"
   ]
  },
  {
   "cell_type": "code",
   "execution_count": 6,
   "id": "51861be3",
   "metadata": {},
   "outputs": [],
   "source": [
    "df=pd.DataFrame(te_array,columns=te.columns_)"
   ]
  },
  {
   "cell_type": "code",
   "execution_count": 7,
   "id": "e8a7677d",
   "metadata": {},
   "outputs": [
    {
     "data": {
      "text/html": [
       "<div>\n",
       "<style scoped>\n",
       "    .dataframe tbody tr th:only-of-type {\n",
       "        vertical-align: middle;\n",
       "    }\n",
       "\n",
       "    .dataframe tbody tr th {\n",
       "        vertical-align: top;\n",
       "    }\n",
       "\n",
       "    .dataframe thead th {\n",
       "        text-align: right;\n",
       "    }\n",
       "</style>\n",
       "<table border=\"1\" class=\"dataframe\">\n",
       "  <thead>\n",
       "    <tr style=\"text-align: right;\">\n",
       "      <th></th>\n",
       "      <th>Beer</th>\n",
       "      <th>Bread</th>\n",
       "      <th>Coke</th>\n",
       "      <th>Diaper</th>\n",
       "      <th>Eggs</th>\n",
       "      <th>Milk</th>\n",
       "    </tr>\n",
       "  </thead>\n",
       "  <tbody>\n",
       "    <tr>\n",
       "      <th>0</th>\n",
       "      <td>False</td>\n",
       "      <td>True</td>\n",
       "      <td>False</td>\n",
       "      <td>False</td>\n",
       "      <td>False</td>\n",
       "      <td>True</td>\n",
       "    </tr>\n",
       "    <tr>\n",
       "      <th>1</th>\n",
       "      <td>True</td>\n",
       "      <td>True</td>\n",
       "      <td>False</td>\n",
       "      <td>True</td>\n",
       "      <td>True</td>\n",
       "      <td>False</td>\n",
       "    </tr>\n",
       "    <tr>\n",
       "      <th>2</th>\n",
       "      <td>True</td>\n",
       "      <td>False</td>\n",
       "      <td>True</td>\n",
       "      <td>True</td>\n",
       "      <td>False</td>\n",
       "      <td>True</td>\n",
       "    </tr>\n",
       "    <tr>\n",
       "      <th>3</th>\n",
       "      <td>True</td>\n",
       "      <td>True</td>\n",
       "      <td>False</td>\n",
       "      <td>True</td>\n",
       "      <td>False</td>\n",
       "      <td>True</td>\n",
       "    </tr>\n",
       "    <tr>\n",
       "      <th>4</th>\n",
       "      <td>False</td>\n",
       "      <td>True</td>\n",
       "      <td>True</td>\n",
       "      <td>True</td>\n",
       "      <td>False</td>\n",
       "      <td>True</td>\n",
       "    </tr>\n",
       "  </tbody>\n",
       "</table>\n",
       "</div>"
      ],
      "text/plain": [
       "    Beer  Bread   Coke  Diaper   Eggs   Milk\n",
       "0  False   True  False   False  False   True\n",
       "1   True   True  False    True   True  False\n",
       "2   True  False   True    True  False   True\n",
       "3   True   True  False    True  False   True\n",
       "4  False   True   True    True  False   True"
      ]
     },
     "execution_count": 7,
     "metadata": {},
     "output_type": "execute_result"
    }
   ],
   "source": [
    "df"
   ]
  },
  {
   "cell_type": "code",
   "execution_count": 8,
   "id": "4063c0fd",
   "metadata": {},
   "outputs": [],
   "source": [
    "freq_items=apriori(df,min_support=0.5,use_colnames=True)"
   ]
  },
  {
   "cell_type": "code",
   "execution_count": 9,
   "id": "5c7777a1",
   "metadata": {},
   "outputs": [
    {
     "name": "stdout",
     "output_type": "stream",
     "text": [
      "   support         itemsets\n",
      "0      0.6           (Beer)\n",
      "1      0.8          (Bread)\n",
      "2      0.8         (Diaper)\n",
      "3      0.8           (Milk)\n",
      "4      0.6   (Beer, Diaper)\n",
      "5      0.6  (Diaper, Bread)\n",
      "6      0.6    (Milk, Bread)\n",
      "7      0.6   (Milk, Diaper)\n"
     ]
    }
   ],
   "source": [
    "print(freq_items)"
   ]
  },
  {
   "cell_type": "code",
   "execution_count": 10,
   "id": "28ff37f8",
   "metadata": {},
   "outputs": [],
   "source": [
    "rules=association_rules(freq_items,metric='support',min_threshold=0.05)\n",
    "rules=rules.sort_values(['support','confidence'],ascending=[False,False])"
   ]
  },
  {
   "cell_type": "code",
   "execution_count": 11,
   "id": "e6e7288b",
   "metadata": {},
   "outputs": [
    {
     "data": {
      "text/html": [
       "<div>\n",
       "<style scoped>\n",
       "    .dataframe tbody tr th:only-of-type {\n",
       "        vertical-align: middle;\n",
       "    }\n",
       "\n",
       "    .dataframe tbody tr th {\n",
       "        vertical-align: top;\n",
       "    }\n",
       "\n",
       "    .dataframe thead th {\n",
       "        text-align: right;\n",
       "    }\n",
       "</style>\n",
       "<table border=\"1\" class=\"dataframe\">\n",
       "  <thead>\n",
       "    <tr style=\"text-align: right;\">\n",
       "      <th></th>\n",
       "      <th>antecedents</th>\n",
       "      <th>consequents</th>\n",
       "      <th>antecedent support</th>\n",
       "      <th>consequent support</th>\n",
       "      <th>support</th>\n",
       "      <th>confidence</th>\n",
       "      <th>lift</th>\n",
       "      <th>leverage</th>\n",
       "      <th>conviction</th>\n",
       "      <th>zhangs_metric</th>\n",
       "    </tr>\n",
       "  </thead>\n",
       "  <tbody>\n",
       "    <tr>\n",
       "      <th>0</th>\n",
       "      <td>(Beer)</td>\n",
       "      <td>(Diaper)</td>\n",
       "      <td>0.6</td>\n",
       "      <td>0.8</td>\n",
       "      <td>0.6</td>\n",
       "      <td>1.00</td>\n",
       "      <td>1.2500</td>\n",
       "      <td>0.12</td>\n",
       "      <td>inf</td>\n",
       "      <td>0.50</td>\n",
       "    </tr>\n",
       "    <tr>\n",
       "      <th>1</th>\n",
       "      <td>(Diaper)</td>\n",
       "      <td>(Beer)</td>\n",
       "      <td>0.8</td>\n",
       "      <td>0.6</td>\n",
       "      <td>0.6</td>\n",
       "      <td>0.75</td>\n",
       "      <td>1.2500</td>\n",
       "      <td>0.12</td>\n",
       "      <td>1.6</td>\n",
       "      <td>1.00</td>\n",
       "    </tr>\n",
       "    <tr>\n",
       "      <th>2</th>\n",
       "      <td>(Diaper)</td>\n",
       "      <td>(Bread)</td>\n",
       "      <td>0.8</td>\n",
       "      <td>0.8</td>\n",
       "      <td>0.6</td>\n",
       "      <td>0.75</td>\n",
       "      <td>0.9375</td>\n",
       "      <td>-0.04</td>\n",
       "      <td>0.8</td>\n",
       "      <td>-0.25</td>\n",
       "    </tr>\n",
       "    <tr>\n",
       "      <th>3</th>\n",
       "      <td>(Bread)</td>\n",
       "      <td>(Diaper)</td>\n",
       "      <td>0.8</td>\n",
       "      <td>0.8</td>\n",
       "      <td>0.6</td>\n",
       "      <td>0.75</td>\n",
       "      <td>0.9375</td>\n",
       "      <td>-0.04</td>\n",
       "      <td>0.8</td>\n",
       "      <td>-0.25</td>\n",
       "    </tr>\n",
       "    <tr>\n",
       "      <th>4</th>\n",
       "      <td>(Milk)</td>\n",
       "      <td>(Bread)</td>\n",
       "      <td>0.8</td>\n",
       "      <td>0.8</td>\n",
       "      <td>0.6</td>\n",
       "      <td>0.75</td>\n",
       "      <td>0.9375</td>\n",
       "      <td>-0.04</td>\n",
       "      <td>0.8</td>\n",
       "      <td>-0.25</td>\n",
       "    </tr>\n",
       "    <tr>\n",
       "      <th>5</th>\n",
       "      <td>(Bread)</td>\n",
       "      <td>(Milk)</td>\n",
       "      <td>0.8</td>\n",
       "      <td>0.8</td>\n",
       "      <td>0.6</td>\n",
       "      <td>0.75</td>\n",
       "      <td>0.9375</td>\n",
       "      <td>-0.04</td>\n",
       "      <td>0.8</td>\n",
       "      <td>-0.25</td>\n",
       "    </tr>\n",
       "    <tr>\n",
       "      <th>6</th>\n",
       "      <td>(Milk)</td>\n",
       "      <td>(Diaper)</td>\n",
       "      <td>0.8</td>\n",
       "      <td>0.8</td>\n",
       "      <td>0.6</td>\n",
       "      <td>0.75</td>\n",
       "      <td>0.9375</td>\n",
       "      <td>-0.04</td>\n",
       "      <td>0.8</td>\n",
       "      <td>-0.25</td>\n",
       "    </tr>\n",
       "    <tr>\n",
       "      <th>7</th>\n",
       "      <td>(Diaper)</td>\n",
       "      <td>(Milk)</td>\n",
       "      <td>0.8</td>\n",
       "      <td>0.8</td>\n",
       "      <td>0.6</td>\n",
       "      <td>0.75</td>\n",
       "      <td>0.9375</td>\n",
       "      <td>-0.04</td>\n",
       "      <td>0.8</td>\n",
       "      <td>-0.25</td>\n",
       "    </tr>\n",
       "  </tbody>\n",
       "</table>\n",
       "</div>"
      ],
      "text/plain": [
       "  antecedents consequents  antecedent support  consequent support  support  \\\n",
       "0      (Beer)    (Diaper)                 0.6                 0.8      0.6   \n",
       "1    (Diaper)      (Beer)                 0.8                 0.6      0.6   \n",
       "2    (Diaper)     (Bread)                 0.8                 0.8      0.6   \n",
       "3     (Bread)    (Diaper)                 0.8                 0.8      0.6   \n",
       "4      (Milk)     (Bread)                 0.8                 0.8      0.6   \n",
       "5     (Bread)      (Milk)                 0.8                 0.8      0.6   \n",
       "6      (Milk)    (Diaper)                 0.8                 0.8      0.6   \n",
       "7    (Diaper)      (Milk)                 0.8                 0.8      0.6   \n",
       "\n",
       "   confidence    lift  leverage  conviction  zhangs_metric  \n",
       "0        1.00  1.2500      0.12         inf           0.50  \n",
       "1        0.75  1.2500      0.12         1.6           1.00  \n",
       "2        0.75  0.9375     -0.04         0.8          -0.25  \n",
       "3        0.75  0.9375     -0.04         0.8          -0.25  \n",
       "4        0.75  0.9375     -0.04         0.8          -0.25  \n",
       "5        0.75  0.9375     -0.04         0.8          -0.25  \n",
       "6        0.75  0.9375     -0.04         0.8          -0.25  \n",
       "7        0.75  0.9375     -0.04         0.8          -0.25  "
      ]
     },
     "execution_count": 11,
     "metadata": {},
     "output_type": "execute_result"
    }
   ],
   "source": [
    "rules"
   ]
  },
  {
   "cell_type": "code",
   "execution_count": null,
   "id": "66c784cd",
   "metadata": {},
   "outputs": [],
   "source": []
  }
 ],
 "metadata": {
  "kernelspec": {
   "display_name": "Python 3 (ipykernel)",
   "language": "python",
   "name": "python3"
  },
  "language_info": {
   "codemirror_mode": {
    "name": "ipython",
    "version": 3
   },
   "file_extension": ".py",
   "mimetype": "text/x-python",
   "name": "python",
   "nbconvert_exporter": "python",
   "pygments_lexer": "ipython3",
   "version": "3.10.9"
  }
 },
 "nbformat": 4,
 "nbformat_minor": 5
}
