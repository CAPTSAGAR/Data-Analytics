{
 "cells": [
  {
   "cell_type": "code",
   "execution_count": null,
   "id": "a054088f",
   "metadata": {},
   "outputs": [],
   "source": []
  },
  {
   "cell_type": "code",
   "execution_count": 5,
   "id": "3d5ff548",
   "metadata": {},
   "outputs": [],
   "source": [
    "import pandas as pd \n",
    "from mlxtend.frequent_patterns import apriori, association_rules"
   ]
  },
  {
   "cell_type": "code",
   "execution_count": 6,
   "id": "975e9079",
   "metadata": {},
   "outputs": [],
   "source": [
    "transactions=[['eggs','milk','bread'],\n",
    "              ['eggs','apple'],\n",
    "              ['milk','bread'],\n",
    "              ['apple','milk'],\n",
    "              ['milk','apple','bread']]"
   ]
  },
  {
   "cell_type": "raw",
   "id": "46d27808",
   "metadata": {},
   "source": [
    "from mlxtend.preprocessing import TransactionEncoder"
   ]
  },
  {
   "cell_type": "code",
   "execution_count": 7,
   "id": "f030abfb",
   "metadata": {},
   "outputs": [],
   "source": [
    "from mlxtend.preprocessing import TransactionEncoder"
   ]
  },
  {
   "cell_type": "code",
   "execution_count": 8,
   "id": "3927d322",
   "metadata": {},
   "outputs": [],
   "source": [
    "te=TransactionEncoder()\n",
    "te_array=te.fit(transactions).transform(transactions)"
   ]
  },
  {
   "cell_type": "code",
   "execution_count": 9,
   "id": "51861be3",
   "metadata": {},
   "outputs": [],
   "source": [
    "df=pd.DataFrame(te_array,columns=te.columns_)"
   ]
  },
  {
   "cell_type": "code",
   "execution_count": 10,
   "id": "e8a7677d",
   "metadata": {},
   "outputs": [
    {
     "data": {
      "text/html": [
       "<div>\n",
       "<style scoped>\n",
       "    .dataframe tbody tr th:only-of-type {\n",
       "        vertical-align: middle;\n",
       "    }\n",
       "\n",
       "    .dataframe tbody tr th {\n",
       "        vertical-align: top;\n",
       "    }\n",
       "\n",
       "    .dataframe thead th {\n",
       "        text-align: right;\n",
       "    }\n",
       "</style>\n",
       "<table border=\"1\" class=\"dataframe\">\n",
       "  <thead>\n",
       "    <tr style=\"text-align: right;\">\n",
       "      <th></th>\n",
       "      <th>apple</th>\n",
       "      <th>bread</th>\n",
       "      <th>eggs</th>\n",
       "      <th>milk</th>\n",
       "    </tr>\n",
       "  </thead>\n",
       "  <tbody>\n",
       "    <tr>\n",
       "      <th>0</th>\n",
       "      <td>False</td>\n",
       "      <td>True</td>\n",
       "      <td>True</td>\n",
       "      <td>True</td>\n",
       "    </tr>\n",
       "    <tr>\n",
       "      <th>1</th>\n",
       "      <td>True</td>\n",
       "      <td>False</td>\n",
       "      <td>True</td>\n",
       "      <td>False</td>\n",
       "    </tr>\n",
       "    <tr>\n",
       "      <th>2</th>\n",
       "      <td>False</td>\n",
       "      <td>True</td>\n",
       "      <td>False</td>\n",
       "      <td>True</td>\n",
       "    </tr>\n",
       "    <tr>\n",
       "      <th>3</th>\n",
       "      <td>True</td>\n",
       "      <td>False</td>\n",
       "      <td>False</td>\n",
       "      <td>True</td>\n",
       "    </tr>\n",
       "    <tr>\n",
       "      <th>4</th>\n",
       "      <td>True</td>\n",
       "      <td>True</td>\n",
       "      <td>False</td>\n",
       "      <td>True</td>\n",
       "    </tr>\n",
       "  </tbody>\n",
       "</table>\n",
       "</div>"
      ],
      "text/plain": [
       "   apple  bread   eggs   milk\n",
       "0  False   True   True   True\n",
       "1   True  False   True  False\n",
       "2  False   True  False   True\n",
       "3   True  False  False   True\n",
       "4   True   True  False   True"
      ]
     },
     "execution_count": 10,
     "metadata": {},
     "output_type": "execute_result"
    }
   ],
   "source": [
    "df"
   ]
  },
  {
   "cell_type": "code",
   "execution_count": 11,
   "id": "4063c0fd",
   "metadata": {},
   "outputs": [],
   "source": [
    "freq_items=apriori(df,min_support=0.5,use_colnames=True)"
   ]
  },
  {
   "cell_type": "code",
   "execution_count": 12,
   "id": "5c7777a1",
   "metadata": {},
   "outputs": [
    {
     "name": "stdout",
     "output_type": "stream",
     "text": [
      "   support       itemsets\n",
      "0      0.6        (apple)\n",
      "1      0.6        (bread)\n",
      "2      0.8         (milk)\n",
      "3      0.6  (milk, bread)\n"
     ]
    }
   ],
   "source": [
    "print(freq_items)"
   ]
  },
  {
   "cell_type": "code",
   "execution_count": 15,
   "id": "28ff37f8",
   "metadata": {},
   "outputs": [],
   "source": [
    "rules=association_rules(freq_items,metric='support',min_threshold=0.05)\n",
    "rules=rules.sort_values(['support','confidence'],ascending=[False,False])"
   ]
  },
  {
   "cell_type": "code",
   "execution_count": 16,
   "id": "e6e7288b",
   "metadata": {},
   "outputs": [
    {
     "data": {
      "text/html": [
       "<div>\n",
       "<style scoped>\n",
       "    .dataframe tbody tr th:only-of-type {\n",
       "        vertical-align: middle;\n",
       "    }\n",
       "\n",
       "    .dataframe tbody tr th {\n",
       "        vertical-align: top;\n",
       "    }\n",
       "\n",
       "    .dataframe thead th {\n",
       "        text-align: right;\n",
       "    }\n",
       "</style>\n",
       "<table border=\"1\" class=\"dataframe\">\n",
       "  <thead>\n",
       "    <tr style=\"text-align: right;\">\n",
       "      <th></th>\n",
       "      <th>antecedents</th>\n",
       "      <th>consequents</th>\n",
       "      <th>antecedent support</th>\n",
       "      <th>consequent support</th>\n",
       "      <th>support</th>\n",
       "      <th>confidence</th>\n",
       "      <th>lift</th>\n",
       "      <th>leverage</th>\n",
       "      <th>conviction</th>\n",
       "      <th>zhangs_metric</th>\n",
       "    </tr>\n",
       "  </thead>\n",
       "  <tbody>\n",
       "    <tr>\n",
       "      <th>1</th>\n",
       "      <td>(bread)</td>\n",
       "      <td>(milk)</td>\n",
       "      <td>0.6</td>\n",
       "      <td>0.8</td>\n",
       "      <td>0.6</td>\n",
       "      <td>1.00</td>\n",
       "      <td>1.25</td>\n",
       "      <td>0.12</td>\n",
       "      <td>inf</td>\n",
       "      <td>0.5</td>\n",
       "    </tr>\n",
       "    <tr>\n",
       "      <th>0</th>\n",
       "      <td>(milk)</td>\n",
       "      <td>(bread)</td>\n",
       "      <td>0.8</td>\n",
       "      <td>0.6</td>\n",
       "      <td>0.6</td>\n",
       "      <td>0.75</td>\n",
       "      <td>1.25</td>\n",
       "      <td>0.12</td>\n",
       "      <td>1.6</td>\n",
       "      <td>1.0</td>\n",
       "    </tr>\n",
       "  </tbody>\n",
       "</table>\n",
       "</div>"
      ],
      "text/plain": [
       "  antecedents consequents  antecedent support  consequent support  support  \\\n",
       "1     (bread)      (milk)                 0.6                 0.8      0.6   \n",
       "0      (milk)     (bread)                 0.8                 0.6      0.6   \n",
       "\n",
       "   confidence  lift  leverage  conviction  zhangs_metric  \n",
       "1        1.00  1.25      0.12         inf            0.5  \n",
       "0        0.75  1.25      0.12         1.6            1.0  "
      ]
     },
     "execution_count": 16,
     "metadata": {},
     "output_type": "execute_result"
    }
   ],
   "source": [
    "rules"
   ]
  },
  {
   "cell_type": "code",
   "execution_count": null,
   "id": "66c784cd",
   "metadata": {},
   "outputs": [],
   "source": []
  }
 ],
 "metadata": {
  "kernelspec": {
   "display_name": "Python 3 (ipykernel)",
   "language": "python",
   "name": "python3"
  },
  "language_info": {
   "codemirror_mode": {
    "name": "ipython",
    "version": 3
   },
   "file_extension": ".py",
   "mimetype": "text/x-python",
   "name": "python",
   "nbconvert_exporter": "python",
   "pygments_lexer": "ipython3",
   "version": "3.10.9"
  }
 },
 "nbformat": 4,
 "nbformat_minor": 5
}
